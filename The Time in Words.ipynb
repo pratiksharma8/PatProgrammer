{
 "cells": [
  {
   "cell_type": "code",
   "execution_count": 137,
   "metadata": {},
   "outputs": [],
   "source": [
    "def timeInWords(h, m):\n",
    "    \n",
    "    n2w={1: 'One', 2: 'Two', 3: 'Three', 4: 'Four', 5: 'Five',\\\n",
    "    6: 'Six', 7: 'Seven', 8: 'Eight', 9: 'Nine', 10: 'Ten',\\\n",
    "    11: 'Eleven', 12: 'Twelve', 13: 'Thirteen', 14: 'Fourteen', 15: 'Fifteen',\\\n",
    "    16: 'Sixteen', 17: 'Seventeen', 18: 'Eighteen', 19: 'Nineteen', 20: 'Twenty',\\\n",
    "    21:'Twenty One', 22: 'Twenty Two', 23: 'Twenty Three', 24: 'Twenty Four', 25: 'Twenty Five',\\\n",
    "    26: 'Twenty Six', 27: 'Twenty Seven', 28: 'Twenty Eight', 29: 'Twenty Nine', 30: 'Thirty',\\\n",
    "    31:'Thirty One', 32: 'Thirty Two', 33: 'Thirty Three', 34: 'Thirty Four', 35: 'Thirty Five',\\\n",
    "    36: 'Thirty Six', 37: 'Thirty Seven', 38: 'Thirty Eight', 39: 'Thirty Nine', 40: 'Forty', \\\n",
    "    41:'Forty One', 42: 'Forty Two', 43: 'Forty Three', 44: 'Forty Four', 45: 'Forty Five',\\\n",
    "    46: 'Forty Six', 47: 'Forty Seven', 48: 'Forty Eight', 49: 'Forty Nine', 50: 'Fifty', \\\n",
    "    51:'Fifty One', 52: 'Fifty Two', 53: '5ifty Three', 54: 'Fifty Four', 55: 'Fifty Five',\\\n",
    "    56: 'Fifty Six', 57: 'Fifty Seven', 58: 'Fifty Eight', 59: 'Fifty Nine'}      \n",
    "    \n",
    "    hour = int(input())\n",
    "    minutes = int(input())\n",
    "    \n",
    "    if minutes == 0:\n",
    "        print(\"It's {} o' clock\".format(n2w[hour]))\n",
    "              \n",
    "    elif 1<= minutes <= 30 and minutes!=15:\n",
    "        print(\"It's {} minutes past {}\".format(n2w[minutes],n2w[hour]))\n",
    "              \n",
    "    elif 30< minutes < 60 and minutes!=45:\n",
    "        minutes = 60-minutes\n",
    "        print(\"It's {} minutes to {}\".format(n2w[minutes],n2w[hour+1]))\n",
    "              \n",
    "    elif minutes == 15:\n",
    "        print(\"It's quarter past {}\".format(n2w[hour]))\n",
    "              \n",
    "    elif minutes == 30:\n",
    "        print(\"It's half past {}\".format(n2w[hour]))\n",
    "              \n",
    "    elif minutes == 45:\n",
    "        print(\"It's quarter to {}\".format(n2w[hour+1]))"
   ]
  },
  {
   "cell_type": "code",
   "execution_count": 138,
   "metadata": {},
   "outputs": [
    {
     "name": "stdout",
     "output_type": "stream",
     "text": [
      "2\n",
      "33\n",
      "it's twenty seven minutes to three\n"
     ]
    }
   ],
   "source": [
    "timeInWords(0,0)"
   ]
  },
  {
   "cell_type": "code",
   "execution_count": null,
   "metadata": {},
   "outputs": [],
   "source": []
  }
 ],
 "metadata": {
  "kernelspec": {
   "display_name": "Python 3",
   "language": "python",
   "name": "python3"
  },
  "language_info": {
   "codemirror_mode": {
    "name": "ipython",
    "version": 3
   },
   "file_extension": ".py",
   "mimetype": "text/x-python",
   "name": "python",
   "nbconvert_exporter": "python",
   "pygments_lexer": "ipython3",
   "version": "3.7.3"
  }
 },
 "nbformat": 4,
 "nbformat_minor": 2
}
